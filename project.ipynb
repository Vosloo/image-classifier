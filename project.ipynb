{
 "cells": [
  {
   "cell_type": "markdown",
   "metadata": {},
   "source": [
    "## Deep learing project no.1\n",
    "\n",
    "Marek Szydłowski 136633 <br>\n",
    "Wotjek Tomczak 145467"
   ]
  },
  {
   "cell_type": "code",
   "execution_count": 146,
   "metadata": {},
   "outputs": [],
   "source": [
    "import os\n",
    "import fnmatch\n",
    "import webbrowser\n",
    "from pathlib import Path\n",
    "\n",
    "from IPython.display import display\n",
    "\n",
    "import pandas as pd\n",
    "import numpy as np\n",
    "import tensorflow as tf\n",
    "import cv2\n",
    "\n",
    "from PIL import Image\n",
    "from sklearn.model_selection import train_test_split\n",
    "from sklearn.preprocessing import OneHotEncoder\n",
    "from tensorflow.keras import datasets, layers, models\n"
   ]
  },
  {
   "cell_type": "code",
   "execution_count": 147,
   "metadata": {},
   "outputs": [],
   "source": [
    "DATA_PATH = \"data/256_ObjectCategories/\"\n"
   ]
  },
  {
   "cell_type": "code",
   "execution_count": 148,
   "metadata": {},
   "outputs": [
    {
     "data": {
      "text/html": [
       "<div>\n",
       "<style scoped>\n",
       "    .dataframe tbody tr th:only-of-type {\n",
       "        vertical-align: middle;\n",
       "    }\n",
       "\n",
       "    .dataframe tbody tr th {\n",
       "        vertical-align: top;\n",
       "    }\n",
       "\n",
       "    .dataframe thead th {\n",
       "        text-align: right;\n",
       "    }\n",
       "</style>\n",
       "<table border=\"1\" class=\"dataframe\">\n",
       "  <thead>\n",
       "    <tr style=\"text-align: right;\">\n",
       "      <th></th>\n",
       "      <th>FILE COUNT</th>\n",
       "      <th>CLASS NAME</th>\n",
       "    </tr>\n",
       "  </thead>\n",
       "  <tbody>\n",
       "    <tr>\n",
       "      <th>0</th>\n",
       "      <td>827</td>\n",
       "      <td>257.clutter</td>\n",
       "    </tr>\n",
       "    <tr>\n",
       "      <th>1</th>\n",
       "      <td>800</td>\n",
       "      <td>251.airplanes-101</td>\n",
       "    </tr>\n",
       "    <tr>\n",
       "      <th>2</th>\n",
       "      <td>798</td>\n",
       "      <td>145.motorbikes-101</td>\n",
       "    </tr>\n",
       "    <tr>\n",
       "      <th>3</th>\n",
       "      <td>435</td>\n",
       "      <td>253.faces-easy-101</td>\n",
       "    </tr>\n",
       "    <tr>\n",
       "      <th>4</th>\n",
       "      <td>358</td>\n",
       "      <td>232.t-shirt</td>\n",
       "    </tr>\n",
       "    <tr>\n",
       "      <th>...</th>\n",
       "      <td>...</td>\n",
       "      <td>...</td>\n",
       "    </tr>\n",
       "    <tr>\n",
       "      <th>252</th>\n",
       "      <td>80</td>\n",
       "      <td>179.scorpion-101</td>\n",
       "    </tr>\n",
       "    <tr>\n",
       "      <th>253</th>\n",
       "      <td>80</td>\n",
       "      <td>086.golden-gate-bridge</td>\n",
       "    </tr>\n",
       "    <tr>\n",
       "      <th>254</th>\n",
       "      <td>80</td>\n",
       "      <td>204.sunflower-101</td>\n",
       "    </tr>\n",
       "    <tr>\n",
       "      <th>255</th>\n",
       "      <td>80</td>\n",
       "      <td>099.harpsichord</td>\n",
       "    </tr>\n",
       "    <tr>\n",
       "      <th>256</th>\n",
       "      <td>80</td>\n",
       "      <td>223.top-hat</td>\n",
       "    </tr>\n",
       "  </tbody>\n",
       "</table>\n",
       "<p>257 rows × 2 columns</p>\n",
       "</div>"
      ],
      "text/plain": [
       "     FILE COUNT              CLASS NAME\n",
       "0           827             257.clutter\n",
       "1           800       251.airplanes-101\n",
       "2           798      145.motorbikes-101\n",
       "3           435      253.faces-easy-101\n",
       "4           358             232.t-shirt\n",
       "..          ...                     ...\n",
       "252          80        179.scorpion-101\n",
       "253          80  086.golden-gate-bridge\n",
       "254          80       204.sunflower-101\n",
       "255          80         099.harpsichord\n",
       "256          80             223.top-hat\n",
       "\n",
       "[257 rows x 2 columns]"
      ]
     },
     "execution_count": 148,
     "metadata": {},
     "output_type": "execute_result"
    }
   ],
   "source": [
    "# cheking size of classes in our database of choice\n",
    "\n",
    "file_counter = []\n",
    "\n",
    "for data_dir in Path(DATA_PATH).iterdir():\n",
    "    file_counter.append(\n",
    "        [\n",
    "            len(fnmatch.filter(os.listdir(data_dir), \"*.jpg\")),\n",
    "            str(data_dir).split(\"/\")[-1],\n",
    "        ]\n",
    "    )\n",
    "\n",
    "results = pd.DataFrame(\n",
    "    sorted(file_counter, key=lambda x: x[0], reverse=True),\n",
    "    columns=[\"FILE COUNT\", \"CLASS NAME\"],\n",
    ")\n",
    "\n",
    "results\n"
   ]
  },
  {
   "cell_type": "code",
   "execution_count": 149,
   "metadata": {},
   "outputs": [],
   "source": [
    "data_check = Path(DATA_PATH)\n",
    "\n",
    "if not data_check.exists():\n",
    "    print(\n",
    "        \"Please download the data first and place it unzipped in data folder which will be placed in root of project file\"\n",
    "    )\n",
    "    _ = webbrowser.open(\n",
    "        \"https://drive.google.com/u/0/uc?id=1r6o0pSROcV1_VwT4oSjA2FBUSCWGuxLK&export=download\"\n",
    "    )\n"
   ]
  },
  {
   "cell_type": "code",
   "execution_count": 150,
   "metadata": {},
   "outputs": [
    {
     "data": {
      "text/plain": [
       "(500, 375, 3)"
      ]
     },
     "execution_count": 150,
     "metadata": {},
     "output_type": "execute_result"
    }
   ],
   "source": [
    "img = cv2.imread(DATA_PATH + \"105.horse/105_0260.jpg\")\n",
    "img.shape\n"
   ]
  },
  {
   "cell_type": "code",
   "execution_count": 151,
   "metadata": {},
   "outputs": [],
   "source": [
    "# animal kingdom here we come\n",
    "animal_codes = np.array(\n",
    "    [\n",
    "        \"007\",\n",
    "        \"009\",\n",
    "        \"024\",\n",
    "        \"028\",\n",
    "        \"034\",\n",
    "        \"038\",\n",
    "        \"040\",\n",
    "        \"049\",\n",
    "        \"052\",\n",
    "        \"056\",\n",
    "        \"057\",\n",
    "        \"060\",\n",
    "        \"064\",\n",
    "        \"065\",\n",
    "        \"080\",\n",
    "        \"084\",\n",
    "        \"085\",\n",
    "        \"087\",\n",
    "        \"089\",\n",
    "        \"090\",\n",
    "        \"093\",\n",
    "        \"100\",\n",
    "        \"105\",\n",
    "        \"106\",\n",
    "        \"111\",\n",
    "        \"113\",\n",
    "        \"114\",\n",
    "        \"116\",\n",
    "        \"121\",\n",
    "        \"124\",\n",
    "        \"129\",\n",
    "        \"134\",\n",
    "        \"150\",\n",
    "        \"151\",\n",
    "        \"152\",\n",
    "        \"158\",\n",
    "        \"164\",\n",
    "        \"166\",\n",
    "        \"168\",\n",
    "        \"179\",\n",
    "        \"186\",\n",
    "        \"189\",\n",
    "        \"190\",\n",
    "        \"198\",\n",
    "        \"201\",\n",
    "        \"207\",\n",
    "        \"228\",\n",
    "        \"236\",\n",
    "        \"250\",\n",
    "        \"254\",\n",
    "        \"256\",\n",
    "    ]\n",
    ")\n",
    "\n",
    "# real american values\n",
    "america_codes = np.array(\n",
    "    [\n",
    "        \"001\",\n",
    "        \"002\",\n",
    "        \"003\",\n",
    "        \"014\",\n",
    "        \"029\",\n",
    "        \"032\",\n",
    "        \"042\",\n",
    "        \"050\",\n",
    "        \"051\",\n",
    "        \"095\",\n",
    "        \"102\",\n",
    "        \"104\",\n",
    "        \"108\",\n",
    "        \"119\",\n",
    "        \"125\",\n",
    "        \"172\",\n",
    "        \"173\",\n",
    "        \"178\",\n",
    "        \"176\",\n",
    "        \"205\",\n",
    "        \"208\",\n",
    "        \"209\",\n",
    "        \"210\",\n",
    "        \"222\",\n",
    "    ]\n",
    ")\n"
   ]
  },
  {
   "cell_type": "code",
   "execution_count": 152,
   "metadata": {},
   "outputs": [],
   "source": [
    "# np.random.seed(23)\n",
    "np.random.seed(888)\n",
    "random_ids = np.random.choice([str(i).zfill(3) for i in range(258)], 20, replace=False)\n"
   ]
  },
  {
   "cell_type": "code",
   "execution_count": 153,
   "metadata": {},
   "outputs": [],
   "source": [
    "images = {}\n",
    "for data_dir in Path(DATA_PATH).iterdir():\n",
    "    num, _ = data_dir.name.split(\".\")\n",
    "    if num in random_ids:\n",
    "        for f in data_dir.iterdir():\n",
    "            if not f.is_file():\n",
    "                continue\n",
    "\n",
    "            if data_dir.name not in images:\n",
    "                images[data_dir.name] = 1\n",
    "            else:\n",
    "                images[data_dir.name] += 1\n",
    "\n",
    "ddf = (\n",
    "    pd.DataFrame.from_dict(images, \"index\")\n",
    "    .reset_index()\n",
    "    .rename({0: \"length\", \"index\": \"name\"}, axis=1)\n",
    ")\n"
   ]
  },
  {
   "cell_type": "code",
   "execution_count": 154,
   "metadata": {},
   "outputs": [
    {
     "name": "stdout",
     "output_type": "stream",
     "text": [
      "Number of chosen classes before balancing: 20\n"
     ]
    }
   ],
   "source": [
    "print(f\"Number of chosen classes before balancing: {len(ddf)}\")\n"
   ]
  },
  {
   "cell_type": "code",
   "execution_count": 155,
   "metadata": {},
   "outputs": [],
   "source": [
    "ddf = ddf[ddf[\"length\"].apply(lambda x: False if x < 80 else True)]\n",
    "\n",
    "ddf.loc[:, \"label\"] = ddf[\"name\"].apply(lambda x: x.split(\".\")[0])\n",
    "\n",
    "ddf = ddf.sort_values(by=\"length\", ascending=False).reset_index(drop=True)\n"
   ]
  },
  {
   "cell_type": "code",
   "execution_count": 156,
   "metadata": {},
   "outputs": [
    {
     "name": "stdout",
     "output_type": "stream",
     "text": [
      "Number of classes after primary balancing (removing classes that have less than 80 images): 20\n"
     ]
    }
   ],
   "source": [
    "print(\n",
    "    f\"Number of classes after primary balancing (removing classes that have less than 80 images): {len(ddf)}\"\n",
    ")\n"
   ]
  },
  {
   "cell_type": "code",
   "execution_count": 157,
   "metadata": {},
   "outputs": [
    {
     "data": {
      "text/html": [
       "<div>\n",
       "<style scoped>\n",
       "    .dataframe tbody tr th:only-of-type {\n",
       "        vertical-align: middle;\n",
       "    }\n",
       "\n",
       "    .dataframe tbody tr th {\n",
       "        vertical-align: top;\n",
       "    }\n",
       "\n",
       "    .dataframe thead th {\n",
       "        text-align: right;\n",
       "    }\n",
       "</style>\n",
       "<table border=\"1\" class=\"dataframe\">\n",
       "  <thead>\n",
       "    <tr style=\"text-align: right;\">\n",
       "      <th></th>\n",
       "      <th>name</th>\n",
       "      <th>length</th>\n",
       "      <th>label</th>\n",
       "    </tr>\n",
       "  </thead>\n",
       "  <tbody>\n",
       "    <tr>\n",
       "      <th>0</th>\n",
       "      <td>043.coin</td>\n",
       "      <td>124</td>\n",
       "      <td>043</td>\n",
       "    </tr>\n",
       "    <tr>\n",
       "      <th>1</th>\n",
       "      <td>234.tweezer</td>\n",
       "      <td>122</td>\n",
       "      <td>234</td>\n",
       "    </tr>\n",
       "    <tr>\n",
       "      <th>2</th>\n",
       "      <td>117.ipod</td>\n",
       "      <td>121</td>\n",
       "      <td>117</td>\n",
       "    </tr>\n",
       "    <tr>\n",
       "      <th>3</th>\n",
       "      <td>072.fire-truck</td>\n",
       "      <td>118</td>\n",
       "      <td>072</td>\n",
       "    </tr>\n",
       "    <tr>\n",
       "      <th>4</th>\n",
       "      <td>207.swan</td>\n",
       "      <td>115</td>\n",
       "      <td>207</td>\n",
       "    </tr>\n",
       "  </tbody>\n",
       "</table>\n",
       "</div>"
      ],
      "text/plain": [
       "             name  length label\n",
       "0        043.coin     124   043\n",
       "1     234.tweezer     122   234\n",
       "2        117.ipod     121   117\n",
       "3  072.fire-truck     118   072\n",
       "4        207.swan     115   207"
      ]
     },
     "execution_count": 157,
     "metadata": {},
     "output_type": "execute_result"
    }
   ],
   "source": [
    "ddf.head()\n"
   ]
  },
  {
   "cell_type": "code",
   "execution_count": 158,
   "metadata": {},
   "outputs": [],
   "source": [
    "df = ddf.sample(20).reset_index(drop=True)\n"
   ]
  },
  {
   "cell_type": "code",
   "execution_count": 159,
   "metadata": {},
   "outputs": [],
   "source": [
    "dataset = []\n",
    "labels = []\n",
    "filenames = []\n",
    "\n",
    "for row in df.itertuples():\n",
    "    dirname = row.name\n",
    "    label = row.label\n",
    "\n",
    "    no_files = 0\n",
    "    for filename in os.listdir(DATA_PATH + dirname):\n",
    "        if no_files == 80:\n",
    "            break\n",
    "\n",
    "        if \".jpg\" not in filename:\n",
    "            continue\n",
    "\n",
    "        filenames.append(dirname + \"/\" + filename)\n",
    "\n",
    "        img = cv2.imread(DATA_PATH + dirname + \"/\" + filename)\n",
    "        resized = cv2.resize(img, (32, 32), interpolation=cv2.INTER_AREA)\n",
    "\n",
    "        dataset.append(resized)\n",
    "        labels.append(label)\n",
    "\n",
    "        no_files += 1\n",
    "\n",
    "dataset = np.array(dataset)\n"
   ]
  },
  {
   "cell_type": "code",
   "execution_count": 160,
   "metadata": {},
   "outputs": [
    {
     "data": {
      "text/plain": [
       "(1600, 32, 32, 3)"
      ]
     },
     "execution_count": 160,
     "metadata": {},
     "output_type": "execute_result"
    }
   ],
   "source": [
    "dataset.shape\n"
   ]
  },
  {
   "cell_type": "code",
   "execution_count": 161,
   "metadata": {},
   "outputs": [
    {
     "data": {
      "text/plain": [
       "(array([139.35852356, 143.07381104, 146.63477173]),\n",
       " array([80.10756714, 76.91879114, 77.16281719]))"
      ]
     },
     "execution_count": 161,
     "metadata": {},
     "output_type": "execute_result"
    }
   ],
   "source": [
    "bgr_mean = np.mean(dataset, axis=(0, 1, 2))\n",
    "bgr_std = np.std(dataset, axis=(0, 1, 2))\n",
    "bgr_mean, bgr_std\n"
   ]
  },
  {
   "cell_type": "code",
   "execution_count": 162,
   "metadata": {},
   "outputs": [
    {
     "data": {
      "text/plain": [
       "(1600, 32, 32, 3)"
      ]
     },
     "execution_count": 162,
     "metadata": {},
     "output_type": "execute_result"
    }
   ],
   "source": [
    "std_data = (dataset - bgr_mean) / bgr_std\n",
    "std_data.shape\n"
   ]
  },
  {
   "cell_type": "code",
   "execution_count": 163,
   "metadata": {},
   "outputs": [
    {
     "name": "stdout",
     "output_type": "stream",
     "text": [
      "Image before standardization\n"
     ]
    },
    {
     "data": {
      "image/png": "[encoded data removed]",
      "text/plain": [
       "<PIL.JpegImagePlugin.JpegImageFile image mode=RGB size=220x220 at 0x7FDC1DB84D90>"
      ]
     },
     "metadata": {},
     "output_type": "display_data"
    }
   ],
   "source": [
    "print('Image before standardization')\n",
    "with Image.open(DATA_PATH + filenames[0]) as img:\n",
    "    display(img)"
   ]
  },
  {
   "cell_type": "code",
   "execution_count": 164,
   "metadata": {},
   "outputs": [],
   "source": [
    "# DO NOT CLOSE IMAGE WITH \"X\" ICON, JUST WAIT\n",
    "# Uncoment to run\n",
    "\n",
    "\n",
    "# cv2.imshow('tmp', std_data[0])\n",
    "# cv2.waitKey(7000)\n",
    "\n",
    "# cv2.destroyAllWindows()"
   ]
  },
  {
   "cell_type": "code",
   "execution_count": 165,
   "metadata": {},
   "outputs": [],
   "source": [
    "# splitting data on train and test\n",
    "X_train, X_test, y_train, y_test = train_test_split(\n",
    "    std_data, labels, stratify=labels, test_size=0.3, random_state=23\n",
    ")\n",
    "\n",
    "y_train, y_test = np.array(y_train), np.array(y_test)\n"
   ]
  },
  {
   "cell_type": "code",
   "execution_count": 166,
   "metadata": {},
   "outputs": [
    {
     "data": {
      "text/plain": [
       "((1120, 32, 32, 3), (480, 32, 32, 3), (1120,), (480,))"
      ]
     },
     "execution_count": 166,
     "metadata": {},
     "output_type": "execute_result"
    }
   ],
   "source": [
    "X_train.shape, X_test.shape, y_train.shape, y_test.shape\n"
   ]
  },
  {
   "cell_type": "code",
   "execution_count": 167,
   "metadata": {},
   "outputs": [],
   "source": [
    "def oneHotterEncoder(target):\n",
    "    _target = target.reshape(-1, 1)\n",
    "    encoder = OneHotEncoder(handle_unknown=\"ignore\")\n",
    "    new_target = encoder.fit(_target)\n",
    "    return new_target.categories_, new_target.transform(_target).toarray()\n"
   ]
  },
  {
   "cell_type": "code",
   "execution_count": 168,
   "metadata": {},
   "outputs": [],
   "source": [
    "classes_train, y_train_enc = oneHotterEncoder(y_train)\n",
    "classes_test, y_test_enc = oneHotterEncoder(y_test)\n",
    "\n",
    "(classes_train,) = classes_train\n",
    "(classes_test,) = classes_test\n"
   ]
  },
  {
   "cell_type": "code",
   "execution_count": 169,
   "metadata": {},
   "outputs": [
    {
     "data": {
      "text/plain": [
       "array(['010', '013', '017', '027', '038', '043', '050', '069', '072',\n",
       "       '081', '086', '110', '117', '139', '171', '198', '207', '223',\n",
       "       '233', '234'], dtype='<U3')"
      ]
     },
     "execution_count": 169,
     "metadata": {},
     "output_type": "execute_result"
    }
   ],
   "source": [
    "classes_test"
   ]
  },
  {
   "cell_type": "code",
   "execution_count": 170,
   "metadata": {},
   "outputs": [
    {
     "name": "stdout",
     "output_type": "stream",
     "text": [
      "(1120, 32, 32, 3) (1120, 20) (480, 32, 32, 3) (480, 20)\n"
     ]
    }
   ],
   "source": [
    "print(X_train.shape, y_train_enc.shape, X_test.shape, y_test_enc.shape)\n"
   ]
  },
  {
   "cell_type": "code",
   "execution_count": 171,
   "metadata": {},
   "outputs": [
    {
     "data": {
      "text/plain": [
       "(32, 32, 3)"
      ]
     },
     "execution_count": 171,
     "metadata": {},
     "output_type": "execute_result"
    }
   ],
   "source": [
    "X_train[0].shape\n"
   ]
  },
  {
   "cell_type": "code",
   "execution_count": 172,
   "metadata": {},
   "outputs": [
    {
     "name": "stdout",
     "output_type": "stream",
     "text": [
      "Model: \"sequential_24\"\n",
      "_________________________________________________________________\n",
      " Layer (type)                Output Shape              Param #   \n",
      "=================================================================\n",
      " conv2d_88 (Conv2D)          (None, 32, 32, 32)        896       \n",
      "                                                                 \n",
      " max_pooling2d_73 (MaxPoolin  (None, 16, 16, 32)       0         \n",
      " g2D)                                                            \n",
      "                                                                 \n",
      " batch_normalization_89 (Bat  (None, 16, 16, 32)       128       \n",
      " chNormalization)                                                \n",
      "                                                                 \n",
      " conv2d_89 (Conv2D)          (None, 16, 16, 64)        18496     \n",
      "                                                                 \n",
      " max_pooling2d_74 (MaxPoolin  (None, 8, 8, 64)         0         \n",
      " g2D)                                                            \n",
      "                                                                 \n",
      " batch_normalization_90 (Bat  (None, 8, 8, 64)         256       \n",
      " chNormalization)                                                \n",
      "                                                                 \n",
      " conv2d_90 (Conv2D)          (None, 8, 8, 128)         73856     \n",
      "                                                                 \n",
      " max_pooling2d_75 (MaxPoolin  (None, 4, 4, 128)        0         \n",
      " g2D)                                                            \n",
      "                                                                 \n",
      " batch_normalization_91 (Bat  (None, 4, 4, 128)        512       \n",
      " chNormalization)                                                \n",
      "                                                                 \n",
      " flatten_23 (Flatten)        (None, 2048)              0         \n",
      "                                                                 \n",
      " dense_86 (Dense)            (None, 128)               262272    \n",
      "                                                                 \n",
      " batch_normalization_92 (Bat  (None, 128)              512       \n",
      " chNormalization)                                                \n",
      "                                                                 \n",
      " dense_87 (Dense)            (None, 64)                8256      \n",
      "                                                                 \n",
      " dropout_9 (Dropout)         (None, 64)                0         \n",
      "                                                                 \n",
      " dense_88 (Dense)            (None, 64)                4160      \n",
      "                                                                 \n",
      " dense_89 (Dense)            (None, 20)                1300      \n",
      "                                                                 \n",
      "=================================================================\n",
      "Total params: 370,644\n",
      "Trainable params: 369,940\n",
      "Non-trainable params: 704\n",
      "_________________________________________________________________\n",
      "Epoch 1/250\n",
      "35/35 [==============================] - 2s 36ms/step - loss: 3.1798 - accuracy: 0.1750 - val_loss: 2.7426 - val_accuracy: 0.1917\n",
      "Epoch 2/250\n",
      "35/35 [==============================] - 1s 31ms/step - loss: 2.0625 - accuracy: 0.3893 - val_loss: 2.7835 - val_accuracy: 0.1437\n",
      "Epoch 3/250\n",
      "35/35 [==============================] - 1s 34ms/step - loss: 1.5848 - accuracy: 0.5277 - val_loss: 2.8672 - val_accuracy: 0.1437\n",
      "Epoch 4/250\n",
      "35/35 [==============================] - 1s 31ms/step - loss: 1.1341 - accuracy: 0.6607 - val_loss: 2.7822 - val_accuracy: 0.1667\n",
      "Epoch 5/250\n",
      "35/35 [==============================] - 1s 32ms/step - loss: 0.8371 - accuracy: 0.7545 - val_loss: 2.6424 - val_accuracy: 0.2292\n",
      "Epoch 6/250\n",
      "35/35 [==============================] - 1s 32ms/step - loss: 0.5819 - accuracy: 0.8250 - val_loss: 2.8674 - val_accuracy: 0.2021\n",
      "Epoch 7/250\n",
      "35/35 [==============================] - 1s 31ms/step - loss: 0.4342 - accuracy: 0.8714 - val_loss: 2.7213 - val_accuracy: 0.2375\n",
      "Epoch 8/250\n",
      "35/35 [==============================] - 1s 32ms/step - loss: 0.2940 - accuracy: 0.9116 - val_loss: 2.5676 - val_accuracy: 0.2854\n",
      "Epoch 9/250\n",
      "35/35 [==============================] - 1s 31ms/step - loss: 0.2175 - accuracy: 0.9375 - val_loss: 2.5827 - val_accuracy: 0.3250\n",
      "Epoch 10/250\n",
      "35/35 [==============================] - 1s 34ms/step - loss: 0.1535 - accuracy: 0.9580 - val_loss: 2.5647 - val_accuracy: 0.3438\n",
      "Epoch 11/250\n",
      "35/35 [==============================] - 1s 34ms/step - loss: 0.1150 - accuracy: 0.9714 - val_loss: 2.7392 - val_accuracy: 0.3667\n",
      "Epoch 12/250\n",
      "35/35 [==============================] - 1s 34ms/step - loss: 0.0950 - accuracy: 0.9786 - val_loss: 2.7273 - val_accuracy: 0.3708\n",
      "Epoch 13/250\n",
      "35/35 [==============================] - 1s 33ms/step - loss: 0.1006 - accuracy: 0.9705 - val_loss: 2.8665 - val_accuracy: 0.3562\n",
      "Epoch 14/250\n",
      "35/35 [==============================] - 1s 31ms/step - loss: 0.0636 - accuracy: 0.9866 - val_loss: 3.1680 - val_accuracy: 0.3667\n",
      "Epoch 15/250\n",
      "35/35 [==============================] - 1s 31ms/step - loss: 0.0558 - accuracy: 0.9884 - val_loss: 3.3593 - val_accuracy: 0.3667\n",
      "Epoch 16/250\n",
      "35/35 [==============================] - 1s 32ms/step - loss: 0.0638 - accuracy: 0.9812 - val_loss: 3.2318 - val_accuracy: 0.3688\n",
      "Epoch 17/250\n",
      "35/35 [==============================] - 1s 31ms/step - loss: 0.0710 - accuracy: 0.9821 - val_loss: 3.5243 - val_accuracy: 0.3750\n",
      "Epoch 18/250\n",
      "35/35 [==============================] - 1s 32ms/step - loss: 0.0868 - accuracy: 0.9777 - val_loss: 3.6531 - val_accuracy: 0.3458\n",
      "Epoch 19/250\n",
      "35/35 [==============================] - 1s 34ms/step - loss: 0.1320 - accuracy: 0.9598 - val_loss: 4.1673 - val_accuracy: 0.3375\n",
      "Epoch 20/250\n",
      "35/35 [==============================] - 1s 36ms/step - loss: 0.1902 - accuracy: 0.9402 - val_loss: 4.4399 - val_accuracy: 0.3625\n"
     ]
    }
   ],
   "source": [
    "model = models.Sequential()\n",
    "\n",
    "model.add(\n",
    "    layers.Conv2D(\n",
    "        filters=32,\n",
    "        kernel_size=(3, 3),\n",
    "        padding=\"same\",\n",
    "        activation=\"relu\",\n",
    "        input_shape=X_train[0].shape,\n",
    "    )\n",
    ")\n",
    "model.add(layers.MaxPooling2D((2, 2)))\n",
    "model.add(layers.BatchNormalization())\n",
    "\n",
    "model.add(\n",
    "    layers.Conv2D(filters=64, kernel_size=(3, 3), padding=\"same\", activation=\"relu\")\n",
    ")\n",
    "model.add(layers.MaxPooling2D((2, 2)))\n",
    "model.add(layers.BatchNormalization())\n",
    "\n",
    "model.add(\n",
    "    layers.Conv2D(filters=128, kernel_size=(3, 3), padding=\"same\", activation=\"relu\")\n",
    ")\n",
    "model.add(layers.MaxPooling2D((2, 2)))\n",
    "model.add(layers.BatchNormalization())\n",
    "\n",
    "# model.add(\n",
    "#     layers.Conv2D(filters=512, kernel_size=(3, 3), padding=\"same\", activation=\"relu\")\n",
    "# )\n",
    "# model.add(layers.MaxPooling2D((2, 2)))\n",
    "# model.add(layers.BatchNormalization())\n",
    "\n",
    "model.add(layers.Flatten())\n",
    "model.add(layers.Dense(128))\n",
    "model.add(layers.BatchNormalization())\n",
    "model.add(layers.Dense(64))\n",
    "model.add(layers.Dropout(.3))\n",
    "model.add(layers.Dense(64))\n",
    "model.add(layers.Dense(len(classes_train), activation=\"softmax\"))\n",
    "\n",
    "model.summary()\n",
    "\n",
    "early_stopping = tf.keras.callbacks.EarlyStopping(monitor=\"accuracy\", patience=5)\n",
    "\n",
    "model.compile(optimizer=\"adam\", loss=\"categorical_crossentropy\", metrics=[\"accuracy\"])\n",
    "\n",
    "history = model.fit(\n",
    "    X_train,\n",
    "    y_train_enc,\n",
    "    batch_size=32,\n",
    "    epochs=250,\n",
    "    validation_data=(X_test, y_test_enc),\n",
    "    callbacks=[early_stopping],\n",
    ")\n"
   ]
  },
  {
   "cell_type": "code",
   "execution_count": 173,
   "metadata": {},
   "outputs": [],
   "source": [
    "pred = model.predict(X_test[:20])\n",
    "ids = np.argmax(pred, axis=1)\n"
   ]
  },
  {
   "cell_type": "code",
   "execution_count": 174,
   "metadata": {},
   "outputs": [
    {
     "data": {
      "text/plain": [
       "30.0"
      ]
     },
     "execution_count": 174,
     "metadata": {},
     "output_type": "execute_result"
    }
   ],
   "source": [
    "np.sum(classes_test[ids] == y_test[: len(ids)]) / len(ids) * 100\n"
   ]
  },
  {
   "cell_type": "code",
   "execution_count": 175,
   "metadata": {},
   "outputs": [
    {
     "data": {
      "text/plain": [
       "((480, 32, 32, 3), (480,))"
      ]
     },
     "execution_count": 175,
     "metadata": {},
     "output_type": "execute_result"
    }
   ],
   "source": [
    "X_test.shape, y_test.shape\n"
   ]
  },
  {
   "cell_type": "code",
   "execution_count": 176,
   "metadata": {},
   "outputs": [
    {
     "data": {
      "text/plain": [
       "array([[4.5935180e-05, 2.0360657e-04, 4.5971949e-05, 1.0899308e-05,\n",
       "        1.2129218e-02, 1.3116055e-05, 3.0989366e-05, 3.5508128e-04,\n",
       "        1.5326263e-02, 1.4639436e-04, 7.2938346e-05, 2.6908151e-06,\n",
       "        5.2303760e-05, 8.3443780e-07, 3.1104735e-06, 4.7239628e-01,\n",
       "        4.9871585e-01, 3.3291394e-04, 7.9596874e-05, 3.5900775e-05]],\n",
       "      dtype=float32)"
      ]
     },
     "execution_count": 176,
     "metadata": {},
     "output_type": "execute_result"
    }
   ],
   "source": [
    "model.predict([X_test[:1]])\n"
   ]
  }
 ],
 "metadata": {
  "interpreter": {
   "hash": "e7370f93d1d0cde622a1f8e1c04877d8463912d04d973331ad4851f04de6915a"
  },
  "kernelspec": {
   "display_name": "Python 3.9.7 64-bit",
   "language": "python",
   "name": "python3"
  },
  "language_info": {
   "codemirror_mode": {
    "name": "ipython",
    "version": 3
   },
   "file_extension": ".py",
   "mimetype": "text/x-python",
   "name": "python",
   "nbconvert_exporter": "python",
   "pygments_lexer": "ipython3",
   "version": "3.8.12"
  },
  "orig_nbformat": 4
 },
 "nbformat": 4,
 "nbformat_minor": 2
}
